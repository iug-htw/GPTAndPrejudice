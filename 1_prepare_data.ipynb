{
 "cells": [
  {
   "cell_type": "code",
   "execution_count": 5,
   "id": "5be7dbcd",
   "metadata": {},
   "outputs": [],
   "source": [
    "import os\n",
    "import re\n",
    "import torch\n",
    "from torch.utils.data import Dataset, DataLoader, random_split\n",
    "\n",
    "from data_loader_v1 import create_dataloader_v1\n",
    "from clean_gutenberg_text import clean_gutenberg_text"
   ]
  },
  {
   "cell_type": "code",
   "execution_count": null,
   "id": "50c12b6d",
   "metadata": {},
   "outputs": [],
   "source": []
  },
  {
   "cell_type": "code",
   "execution_count": 6,
   "id": "43d64cb2",
   "metadata": {},
   "outputs": [],
   "source": [
    "with open(\"original_texts/Rilke_Neue_Gedichte_aus_Gutenberg.txt\", \"r\", encoding=\"utf-8\") as file:\n",
    "    text_data = file.read()\n",
    "\n",
    "with open(\"original_texts/Rilke_Buch_der_Bilder_Gutenberg.txt\", \"r\", encoding=\"utf-8\") as file:\n",
    "    text_data += \"\\n\" + file.read()  # Append with a newline separator    \n",
    "\n",
    "with open(\"original_texts/Rilke_Stundenbuch_Gutenberg.txt\", \"r\", encoding=\"utf-8\") as file:\n",
    "    text_data += \"\\n\" + file.read()  # Append with a newline separator  \n",
    "\n",
    "with open(\"original_texts/Rilke_Erste_Gedichte_Gutenberg.txt\", \"r\", encoding=\"utf-8\") as file:\n",
    "    text_data += \"\\n\" + file.read()  # Append with a newline separator    \n",
    "\n",
    "with open(\"original_texts/Rilke_Der_Neuen_Gedichte_Anderer_Teil_Gutenberg.txt\", \"r\", encoding=\"utf-8\") as file:\n",
    "    text_data += \"\\n\" + file.read()  # Append with a newline separator    "
   ]
  },
  {
   "cell_type": "code",
   "execution_count": null,
   "id": "2de5ea3d",
   "metadata": {},
   "outputs": [],
   "source": []
  },
  {
   "cell_type": "code",
   "execution_count": 7,
   "id": "804c155c",
   "metadata": {},
   "outputs": [],
   "source": [
    "# Train/validation ratio\n",
    "train_ratio = 0.80\n",
    "split_idx = int(train_ratio * len(text_data))\n",
    "train_data = text_data[:split_idx]\n",
    "val_data = text_data[split_idx:]\n",
    "\n",
    "with open('train_text_data.txt', 'w') as f:\n",
    "    f.write(train_data)\n",
    "with open('val_text_data.txt', 'w') as f:\n",
    "    f.write(val_data)"
   ]
  },
  {
   "cell_type": "code",
   "execution_count": null,
   "id": "190e9395",
   "metadata": {},
   "outputs": [],
   "source": []
  }
 ],
 "metadata": {
  "kernelspec": {
   "display_name": "Cramming_example",
   "language": "python",
   "name": "python3"
  },
  "language_info": {
   "codemirror_mode": {
    "name": "ipython",
    "version": 3
   },
   "file_extension": ".py",
   "mimetype": "text/x-python",
   "name": "python",
   "nbconvert_exporter": "python",
   "pygments_lexer": "ipython3",
   "version": "3.13.2"
  }
 },
 "nbformat": 4,
 "nbformat_minor": 5
}
