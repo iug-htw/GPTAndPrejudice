{
 "cells": [
  {
   "cell_type": "code",
   "execution_count": 1,
   "id": "5be7dbcd",
   "metadata": {},
   "outputs": [],
   "source": [
    "import os\n",
    "import re\n",
    "import torch\n",
    "from torch.utils.data import Dataset, DataLoader, random_split\n",
    "from data_loader_v1 import create_dataloader_v1"
   ]
  },
  {
   "cell_type": "code",
   "execution_count": 2,
   "id": "6c07aa69",
   "metadata": {},
   "outputs": [],
   "source": [
    "def clean_gutenberg_text(file_path):\n",
    "    \"\"\" Cleans a Project Gutenberg book text file by removing non-novel content dynamically. \"\"\"\n",
    "\n",
    "    with open(file_path, 'r', encoding='utf-8') as file:\n",
    "        lines = file.readlines()\n",
    "\n",
    "    # Find start and end markers dynamically\n",
    "    start_idx, end_idx = None, None\n",
    "\n",
    "    for i, line in enumerate(lines):\n",
    "        if re.search(r\"\\*\\*\\* START OF THE PROJECT GUTENBERG EBOOK\", line):\n",
    "            start_idx = i + 1  # Skip the start line itself\n",
    "        if re.search(r\"\\*\\*\\* END OF THE PROJECT GUTENBERG EBOOK\", line):\n",
    "            end_idx = i  # Stop before the end line\n",
    "\n",
    "    # Keep only content between start and end markers\n",
    "    if start_idx is not None and end_idx is not None:\n",
    "        lines = lines[start_idx:end_idx]\n",
    "    elif start_idx is not None:\n",
    "        lines = lines[start_idx:]  # If no end marker, keep until the end\n",
    "    else:\n",
    "        lines = lines  # If no markers, keep everything (fallback)\n",
    "\n",
    "    # Convert list back to text for easier regex processing\n",
    "    text = \"\".join(lines)\n",
    "\n",
    "    # Find the first occurrence of \"CHAPTER I\" that has an empty line before it\n",
    "    match = re.search(r\"\\n\\s*\\n(CHAPTER\\s+I\\b)\", text, re.IGNORECASE)\n",
    "\n",
    "    if match:\n",
    "        text = text[match.start():]  # Keep content from first valid \"CHAPTER I\"\n",
    "\n",
    "    # Remove excessive newlines\n",
    "    text = re.sub(r\"\\n\\s*\\n\", \"\\n\\n\", text)\n",
    "\n",
    "    return text.strip()"
   ]
  },
  {
   "cell_type": "code",
   "execution_count": 3,
   "id": "50c12b6d",
   "metadata": {},
   "outputs": [],
   "source": [
    "def concatinate_text_data(directory=\"original_texts/\"):\n",
    "    all_text = \"\"\n",
    "    for filename in os.listdir(directory):\n",
    "        if filename.endswith(\".txt\"):\n",
    "            text = clean_gutenberg_text(os.path.join(directory, filename))\n",
    "            all_text += text + \"<|endoftext|>\\n\"\n",
    "                \n",
    "    return all_text"
   ]
  },
  {
   "cell_type": "code",
   "execution_count": 4,
   "id": "2de5ea3d",
   "metadata": {},
   "outputs": [],
   "source": [
    "text_data = concatinate_text_data()"
   ]
  },
  {
   "cell_type": "code",
   "execution_count": 5,
   "id": "804c155c",
   "metadata": {},
   "outputs": [],
   "source": [
    "# Train/validation ratio\n",
    "train_ratio = 0.90\n",
    "split_idx = int(train_ratio * len(text_data))\n",
    "train_data = text_data[:split_idx]\n",
    "val_data = text_data[split_idx:]\n",
    "\n",
    "with open('train_text_data.txt', 'w') as f:\n",
    "    f.write(train_data)\n",
    "with open('val_text_data.txt', 'w') as f:\n",
    "    f.write(val_data)"
   ]
  }
 ],
 "metadata": {
  "kernelspec": {
   "display_name": "Python 3 (ipykernel)",
   "language": "python",
   "name": "python3"
  },
  "language_info": {
   "codemirror_mode": {
    "name": "ipython",
    "version": 3
   },
   "file_extension": ".py",
   "mimetype": "text/x-python",
   "name": "python",
   "nbconvert_exporter": "python",
   "pygments_lexer": "ipython3",
   "version": "3.9.13"
  }
 },
 "nbformat": 4,
 "nbformat_minor": 5
}
