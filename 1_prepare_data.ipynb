{
 "cells": [
  {
   "cell_type": "code",
   "execution_count": 1,
   "id": "5be7dbcd",
   "metadata": {},
   "outputs": [],
   "source": [
    "import os\n",
    "import re\n",
    "import torch\n",
    "from torch.utils.data import Dataset, DataLoader, random_split\n",
    "\n",
    "from data_loader_v1 import create_dataloader_v1\n",
    "from clean_gutenberg_text import clean_gutenberg_text"
   ]
  },
  {
   "cell_type": "code",
   "execution_count": 2,
   "id": "50c12b6d",
   "metadata": {},
   "outputs": [],
   "source": [
    "def concatinate_text_data(directory=\"original_texts/\"):\n",
    "    all_text = \"\"\n",
    "    for filename in os.listdir(directory):\n",
    "        if filename.endswith(\".txt\"):\n",
    "            text = clean_gutenberg_text(os.path.join(directory, filename))\n",
    "            all_text += text + \"\\n<|endoftext|>\\n\"\n",
    "            \n",
    "    # Replace multiple consecutive <|endoftext|> with a single one\n",
    "    all_text = re.sub(r\"(<\\|endoftext\\|>\\n*)+\", \"<|endoftext|>\\n\", all_text, flags=re.DOTALL)\n",
    "                \n",
    "    return all_text"
   ]
  },
  {
   "cell_type": "code",
   "execution_count": 3,
   "id": "2de5ea3d",
   "metadata": {},
   "outputs": [],
   "source": [
    "text_data = concatinate_text_data()"
   ]
  },
  {
   "cell_type": "code",
   "execution_count": 4,
   "id": "804c155c",
   "metadata": {},
   "outputs": [],
   "source": [
    "# Train/validation ratio\n",
    "train_ratio = 0.90\n",
    "split_idx = int(train_ratio * len(text_data))\n",
    "train_data = text_data[:split_idx]\n",
    "val_data = text_data[split_idx:]\n",
    "\n",
    "with open('train_text_data.txt', 'w') as f:\n",
    "    f.write(train_data)\n",
    "with open('val_text_data.txt', 'w') as f:\n",
    "    f.write(val_data)"
   ]
  },
  {
   "cell_type": "code",
   "execution_count": null,
   "id": "190e9395",
   "metadata": {},
   "outputs": [],
   "source": []
  }
 ],
 "metadata": {
  "kernelspec": {
   "display_name": "Python 3 (ipykernel)",
   "language": "python",
   "name": "python3"
  },
  "language_info": {
   "codemirror_mode": {
    "name": "ipython",
    "version": 3
   },
   "file_extension": ".py",
   "mimetype": "text/x-python",
   "name": "python",
   "nbconvert_exporter": "python",
   "pygments_lexer": "ipython3",
   "version": "3.9.13"
  }
 },
 "nbformat": 4,
 "nbformat_minor": 5
}
