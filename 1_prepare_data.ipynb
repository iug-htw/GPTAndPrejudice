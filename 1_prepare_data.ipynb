{
 "cells": [
  {
   "cell_type": "code",
   "execution_count": 1,
   "id": "5be7dbcd",
   "metadata": {},
   "outputs": [],
   "source": [
    "import os\n",
    "import re\n",
    "import torch\n",
    "from torch.utils.data import Dataset, DataLoader, random_split\n",
    "\n",
    "from data_loader_v1 import create_dataloader_v1\n",
    "from clean_gutenberg_text import clean_gutenberg_text"
   ]
  },
  {
   "cell_type": "markdown",
   "id": "73b32ea8-7af9-40ac-9bda-3a19374a027c",
   "metadata": {},
   "source": [
    "## Cleaning single novels"
   ]
  },
  {
   "cell_type": "code",
   "execution_count": 2,
   "id": "50c12b6d",
   "metadata": {},
   "outputs": [],
   "source": [
    "def concatinate_text_data(directory=\"original_texts/\"):\n",
    "    all_text = \"\"\n",
    "    for filename in os.listdir(directory):\n",
    "        if filename.endswith(\".txt\"):\n",
    "            text = clean_gutenberg_text(os.path.join(directory, filename))\n",
    "            all_text += text + \"\\n<|endoftext|>\\n\"\n",
    "            \n",
    "    # Replace multiple consecutive <|endoftext|> with a single one\n",
    "    all_text = re.sub(r\"(<\\|endoftext\\|>\\n*)+\", \"<|endoftext|>\\n\", all_text, flags=re.DOTALL)\n",
    "                \n",
    "    return all_text"
   ]
  },
  {
   "cell_type": "code",
   "execution_count": 3,
   "id": "2de5ea3d",
   "metadata": {},
   "outputs": [],
   "source": [
    "text_data = concatinate_text_data()"
   ]
  },
  {
   "cell_type": "code",
   "execution_count": 4,
   "id": "804c155c",
   "metadata": {},
   "outputs": [],
   "source": [
    "# Train/validation ratio\n",
    "train_ratio = 0.90\n",
    "split_idx = int(train_ratio * len(text_data))\n",
    "train_data = text_data[:split_idx]\n",
    "val_data = text_data[split_idx:]\n",
    "\n",
    "with open('train_text_data.txt', 'w') as f:\n",
    "    f.write(train_data)\n",
    "with open('val_text_data.txt', 'w') as f:\n",
    "    f.write(val_data)"
   ]
  },
  {
   "cell_type": "markdown",
   "id": "cc608790-91c9-40af-9b9d-93a6f2e7263c",
   "metadata": {},
   "source": [
    "## Cleaning Gutenburg's collected works of Jane Austen"
   ]
  },
  {
   "cell_type": "code",
   "execution_count": 2,
   "id": "c39c2ffe-dae9-4e08-ac88-c7cc2abc3cb6",
   "metadata": {},
   "outputs": [],
   "source": [
    "from clean_gutenberg_collected_work import clean_gutenberg_collected_work"
   ]
  },
  {
   "cell_type": "code",
   "execution_count": 3,
   "id": "6af07e60-98e1-4f3b-8de5-1abcf0e2c353",
   "metadata": {},
   "outputs": [],
   "source": [
    "directory = \"original_texts/\"\n",
    "cleaned_text = clean_gutenberg_collected_work(os.path.join(directory, \"complete_jane_austen.txt\"))"
   ]
  },
  {
   "cell_type": "code",
   "execution_count": 4,
   "id": "e2a6f989-14ed-440d-a94c-2a44ce0c2ec3",
   "metadata": {},
   "outputs": [],
   "source": [
    "# Train/validation ratio\n",
    "train_ratio = 0.90\n",
    "split_idx = int(train_ratio * len(cleaned_text))\n",
    "train_data = cleaned_text[:split_idx]\n",
    "val_data = cleaned_text[split_idx:]\n",
    "\n",
    "with open('train_text_data.txt', 'w') as f:\n",
    "    f.write(train_data)\n",
    "with open('val_text_data.txt', 'w') as f:\n",
    "    f.write(val_data)"
   ]
  },
  {
   "cell_type": "code",
   "execution_count": null,
   "id": "b85fe795-1a85-4049-9ed3-1e0fe70a16d5",
   "metadata": {},
   "outputs": [],
   "source": []
  }
 ],
 "metadata": {
  "kernelspec": {
   "display_name": "Python 3 (ipykernel)",
   "language": "python",
   "name": "python3"
  },
  "language_info": {
   "codemirror_mode": {
    "name": "ipython",
    "version": 3
   },
   "file_extension": ".py",
   "mimetype": "text/x-python",
   "name": "python",
   "nbconvert_exporter": "python",
   "pygments_lexer": "ipython3",
   "version": "3.10.8"
  }
 },
 "nbformat": 4,
 "nbformat_minor": 5
}
