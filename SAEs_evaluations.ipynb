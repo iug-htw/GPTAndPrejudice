{
 "cells": [
  {
   "cell_type": "code",
   "execution_count": null,
   "id": "fff8fe8e",
   "metadata": {},
   "outputs": [],
   "source": [
    "import tiktoken\n",
    "import os\n",
    "import torch\n",
    "import torch.nn as nn\n",
    "import torch.optim as optim\n",
    "from torch.utils.data import DataLoader, TensorDataset\n",
    "import numpy as np\n",
    "\n",
    "from gpt_model import GPTModel\n",
    "from clean_gutenberg_text import clean_gutenberg_text\n",
    "from train_sae import train_sae\n",
    "from sparse_auto_encoder import SparseAutoencoder"
   ]
  },
  {
   "cell_type": "code",
   "execution_count": null,
   "id": "cfe351e7",
   "metadata": {},
   "outputs": [
    {
     "name": "stdout",
     "output_type": "stream",
     "text": [
      "Using mps device.\n"
     ]
    }
   ],
   "source": [
    "device = torch.device(\"cuda\" if torch.cuda.is_available() else \"cpu\")\n",
    "\n",
    "if torch.cuda.is_available():\n",
    "    device = torch.device(\"cuda\")\n",
    "elif torch.backends.mps.is_available():\n",
    "    device = torch.device(\"mps\")\n",
    "else:\n",
    "    device = torch.device(\"cpu\")\n",
    "\n",
    "print(f\"Using {device} device.\")"
   ]
  },
  {
   "cell_type": "code",
   "execution_count": null,
   "id": "e4db36d8",
   "metadata": {},
   "outputs": [],
   "source": [
    "GPT_CONFIG_124M = {\n",
    "    \"vocab_size\": 50257,\n",
    "    \"context_length\": 256,\n",
    "    \"emb_dim\": 768,\n",
    "    \"n_heads\": 12,\n",
    "    \"n_layers\": 12,\n",
    "    \"drop_rate\": 0.2,\n",
    "    \"qkv_bias\": False,\n",
    "    \"device\": device,\n",
    "}"
   ]
  },
  {
   "cell_type": "code",
   "execution_count": null,
   "id": "291556a4",
   "metadata": {},
   "outputs": [],
   "source": [
    "model = GPTModel(GPT_CONFIG_124M)\n",
    "checkpoint = torch.load(\"model_and_optimizer_5.pth\", weights_only=True)\n",
    "\n",
    "model.load_state_dict(checkpoint[\"model_state_dict\"])\n",
    "model.to(device)\n",
    "model.eval();"
   ]
  },
  {
   "cell_type": "code",
   "execution_count": null,
   "id": "6430cba6",
   "metadata": {},
   "outputs": [],
   "source": [
    "tokenizer = tiktoken.get_encoding(\"gpt2\")"
   ]
  },
  {
   "cell_type": "code",
   "execution_count": null,
   "id": "ae4ecc5d",
   "metadata": {},
   "outputs": [],
   "source": [
    "def text_to_token_ids(text, tokenizer):\n",
    "    encoded = tokenizer.encode(text, allowed_special={'<|endoftext|>'})\n",
    "    encoded_tensor = torch.tensor(encoded).unsqueeze(0) # add batch dimension\n",
    "    return encoded_tensor\n",
    "\n",
    "def get_token_embeddings(text, model, tokenizer, layers=[6, 12]):\n",
    "    \"\"\"\n",
    "    Extracts token embeddings from specified transformer layers.\n",
    "\n",
    "    Args:\n",
    "    - text (str): Input text.\n",
    "    - model: Custom GPT model.\n",
    "    - tokenizer: tiktoken encoding object.\n",
    "    - layers (list): Transformer layers to extract embeddings from.\n",
    "\n",
    "    Returns:\n",
    "    - dict: Layer-wise token embeddings {layer_number: embeddings}\n",
    "    \"\"\"\n",
    "\n",
    "    input_ids = text_to_token_ids(text, tokenizer).to(device)\n",
    "\n",
    "    with torch.no_grad():\n",
    "        _, hidden_states = model(input_ids, output_hidden_states=True)\n",
    "\n",
    "    embeddings = {}\n",
    "    for layer in layers:\n",
    "        if layer - 1 < len(hidden_states):\n",
    "            embeddings[layer] = hidden_states[layer - 1].squeeze(0).cpu().numpy()\n",
    "        else:\n",
    "            print(f\"⚠️ Warning: Layer {layer} is out of range (max index {len(hidden_states) - 1})\")\n",
    "\n",
    "    return embeddings"
   ]
  },
  {
   "cell_type": "code",
   "execution_count": null,
   "id": "babfe6ed",
   "metadata": {},
   "outputs": [],
   "source": [
    "import matplotlib.pyplot as plt\n",
    "\n",
    "def visualize_activations(input_text, tokenizer, model, sae, pooling=\"mean\"):\n",
    "    # Tokenize input text\n",
    "    input_ids = text_to_token_ids(input_text, tokenizer)\n",
    "    \n",
    "    # Get LLM hidden states\n",
    "    with torch.no_grad():\n",
    "        model.to(\"cpu\")\n",
    "        _, hidden_states = model(input_ids, output_hidden_states=True)\n",
    "        last_hidden_state = hidden_states[-1].squeeze(0)\n",
    "    \n",
    "        # Get SAE latent activations\n",
    "        _, latent_activations = sae(last_hidden_state)\n",
    "\n",
    "        # Apply pooling to handle variable-length tokenization\n",
    "        if pooling == \"mean\":\n",
    "            latent_activations = latent_activations.mean(dim=0)  # Average across tokens\n",
    "        elif pooling == \"max\":\n",
    "            latent_activations = latent_activations.max(dim=0).values  # Max across tokens\n",
    "        elif pooling == \"sum\":\n",
    "            latent_activations = latent_activations.sum(dim=0)  # Sum across tokens\n",
    "        else:\n",
    "            raise ValueError(\"Invalid pooling method. Choose 'mean', 'max', or 'sum'.\")\n",
    "\n",
    "    latent_activations = latent_activations.squeeze(0).detach().numpy()\n",
    "    \n",
    "    # Get top 10 activations\n",
    "    top_10_indices = np.argsort(latent_activations)[-10:][::-1]\n",
    "    top_10_values = latent_activations[top_10_indices]\n",
    "    print(\"Top 10 activations:\")\n",
    "    for i, (idx, value) in enumerate(zip(top_10_indices, top_10_values)):\n",
    "        print(f\"{i+1}. Neuron {idx}: {value:.4f}\")\n",
    "\n",
    "    # Plot activations\n",
    "    plt.figure(figsize=(10, 6))\n",
    "    plt.bar(range(len(latent_activations)), latent_activations)\n",
    "    plt.xlabel('Neuron Index')\n",
    "    plt.ylabel('Activation')\n",
    "    plt.title(f'Latent Neuron Activations for Input: \"{input_text}\"')\n",
    "    plt.show()\n",
    "    \n",
    "    return latent_activations"
   ]
  },
  {
   "cell_type": "code",
   "execution_count": null,
   "id": "b651ffb3",
   "metadata": {},
   "outputs": [
    {
     "name": "stdout",
     "output_type": "stream",
     "text": [
      "Top 10 activations:\n",
      "1. Neuron 217: 0.0022\n",
      "2. Neuron 171: 0.0021\n",
      "3. Neuron 179: 0.0019\n",
      "4. Neuron 42: 0.0016\n",
      "5. Neuron 25: 0.0016\n",
      "6. Neuron 23: 0.0016\n",
      "7. Neuron 208: 0.0016\n",
      "8. Neuron 116: 0.0015\n",
      "9. Neuron 166: 0.0015\n",
      "10. Neuron 242: 0.0015\n"
     ]
    },
    {
     "data": {
      "image/png": "[encoded data removed]",
      "text/plain": [
       "<Figure size 1000x600 with 1 Axes>"
      ]
     },
     "metadata": {},
     "output_type": "display_data"
    }
   ],
   "source": [
    "sae_6 = SparseAutoencoder(input_dim=768, hidden_dim=256).to(\"cpu\")\n",
    "sae_6.load_state_dict(torch.load(\"sae_layer6_1.pth\"))\n",
    "sae_6.eval()\n",
    "\n",
    "visualize_activations(\"animal\", tokenizer,model, sae_6, pooling=\"mean\");"
   ]
  },
  {
   "cell_type": "code",
   "execution_count": null,
   "id": "65cf07f2",
   "metadata": {},
   "outputs": [],
   "source": [
    "def find_top_activating_words(text_list, tokenizer, model, sae, neuron_idx, top_n=10, pooling=\"mean\"):\n",
    "    activations = []\n",
    "\n",
    "    for text in text_list:\n",
    "        input_ids = text_to_token_ids(text, tokenizer)\n",
    "        with torch.no_grad():\n",
    "            _, hidden_states = model(input_ids, output_hidden_states=True)\n",
    "            last_hidden_state = hidden_states[-1].squeeze(0)\n",
    "            \n",
    "            _, latent_activations = sae(last_hidden_state)\n",
    "            \n",
    "            # Apply pooling to handle variable-length tokenization\n",
    "            if pooling == \"mean\":\n",
    "                latent_activations = latent_activations.mean(dim=0)  # Average across tokens\n",
    "            elif pooling == \"max\":\n",
    "                latent_activations = latent_activations.max(dim=0).values  # Max across tokens\n",
    "            elif pooling == \"sum\":\n",
    "                latent_activations = latent_activations.sum(dim=0)  # Sum across tokens\n",
    "            else:\n",
    "                raise ValueError(\"Invalid pooling method. Choose 'mean', 'max', or 'sum'.\")\n",
    "\n",
    "        activation_value = latent_activations[neuron_idx].item()\n",
    "        activations.append((text, activation_value))\n",
    "\n",
    "    # Sort by highest activation\n",
    "    activations.sort(key=lambda x: x[1], reverse=True)\n",
    "\n",
    "    print(f\"Top {top_n} words activating neuron {neuron_idx}:\")\n",
    "    for word, value in activations[:top_n]:\n",
    "        print(f\"{word}: {value:.4f}\")\n"
   ]
  },
  {
   "cell_type": "code",
   "execution_count": null,
   "id": "659582d4",
   "metadata": {},
   "outputs": [
    {
     "name": "stdout",
     "output_type": "stream",
     "text": [
      "Top 10 words activating neuron 2:\n",
      "sad: 0.0011\n",
      "queen: 0.0008\n",
      "woman: 0.0007\n",
      "dog: 0.0006\n",
      "cat: 0.0005\n",
      "walk: 0.0005\n",
      "man: 0.0004\n",
      "happy: 0.0004\n",
      "king: 0.0001\n",
      "run: 0.0000\n"
     ]
    }
   ],
   "source": [
    "words = [\"king\", \"queen\", \"man\", \"woman\", \"dog\", \"cat\", \"run\", \"walk\", \"happy\", \"sad\"]\n",
    "find_top_activating_words(words, tokenizer, model, sae_6, neuron_idx=2)"
   ]
  },
  {
   "cell_type": "code",
   "execution_count": null,
   "id": "389140c3",
   "metadata": {},
   "outputs": [],
   "source": [
    "from sklearn.cluster import KMeans\n",
    "\n",
    "def cluster_neurons(text_list, tokenizer, llm, sae, num_clusters=10, pooling=\"mean\"):\n",
    "    activations = []\n",
    "    \n",
    "    for text in text_list:\n",
    "        input_ids = text_to_token_ids(text, tokenizer)\n",
    "        with torch.no_grad():\n",
    "            _, hidden_states = model(input_ids, output_hidden_states=True)\n",
    "            last_hidden_state = hidden_states[-1].squeeze(0)\n",
    "            \n",
    "            _, latent_activations = sae(last_hidden_state)\n",
    "            \n",
    "            # Apply pooling to handle variable-length tokenization\n",
    "            if pooling == \"mean\":\n",
    "                latent_activations = latent_activations.mean(dim=0)  # Average across tokens\n",
    "            elif pooling == \"max\":\n",
    "                latent_activations = latent_activations.max(dim=0).values  # Max across tokens\n",
    "            elif pooling == \"sum\":\n",
    "                latent_activations = latent_activations.sum(dim=0)  # Sum across tokens\n",
    "            else:\n",
    "                raise ValueError(\"Invalid pooling method. Choose 'mean', 'max', or 'sum'.\")\n",
    "        \n",
    "        activations.append(latent_activations.detach().numpy().flatten())\n",
    "\n",
    "    activations = np.array(activations)\n",
    "\n",
    "    # Apply clustering\n",
    "    kmeans = KMeans(n_clusters=num_clusters, random_state=42)\n",
    "    labels = kmeans.fit_predict(activations)\n",
    "\n",
    "    # Print cluster results\n",
    "    clusters = {i: [] for i in range(num_clusters)}\n",
    "    for i, text in enumerate(text_list):\n",
    "        clusters[labels[i]].append(text)\n",
    "\n",
    "    for cluster, words in clusters.items():\n",
    "        print(f\"Cluster {cluster}: {words[:10]}\")"
   ]
  },
  {
   "cell_type": "code",
   "execution_count": null,
   "id": "445d42e5",
   "metadata": {},
   "outputs": [
    {
     "name": "stdout",
     "output_type": "stream",
     "text": [
      "Cluster 0: ['wife', 'Darcy', 'Anne']\n",
      "Cluster 1: ['engagement', 'husband', 'duty', 'scandal', 'Lizzy']\n",
      "Cluster 2: ['proposal', 'love', 'courtship', 'marriage', 'woman', 'lady', 'independent', 'marry', 'obliged', 'duties']\n",
      "Cluster 3: ['Miss']\n"
     ]
    }
   ],
   "source": [
    "words = [\"proposal\", \"love\", \"courtship\", \"engagement\", \"marriage\", \"husband\", \"wife\",\n",
    "        \"woman\", \"lady\", \"Miss\", \"independent\", \"marry\", \"obliged\", \"duties\", \"obligations\",\n",
    "        \"sister\", \"brother\", \"family\", \"duty\", \"inheritance\", \"Mr\", \"horse\", \"scandal\", \"ruined\",\n",
    "         \"elopement\", \"Darcy\", \"Lizzy\", \"Frederick\", \"Anne\"]\n",
    "cluster_neurons(words, tokenizer, model, sae_6, num_clusters=4)"
   ]
  },
  {
   "cell_type": "code",
   "execution_count": null,
   "id": "803d3638",
   "metadata": {},
   "outputs": [],
   "source": [
    "from sparse_auto_encoder import SparseAutoencoder\n",
    "\n",
    "def get_encoded_representation_l6(test_text, model, tokenizer, layer=6, device=\"cpu\"):\n",
    "    sae = SparseAutoencoder(input_dim=768, hidden_dim=256).to(device)\n",
    "    \n",
    "    if layer == 6:\n",
    "        path = \"sae_layer6_1.pth\"\n",
    "    else:\n",
    "        path = \"sae_layer12.pth\"\n",
    "        \n",
    "    sae.load_state_dict(torch.load(path))\n",
    "    sae.eval()\n",
    "    \n",
    "    test_embeddings = get_token_embeddings(test_text, model, tokenizer)\n",
    "\n",
    "    layer6_embeddings = test_embeddings[6]\n",
    "    test_tensor = torch.tensor(layer6_embeddings, dtype=torch.float32).to(device)\n",
    "\n",
    "    _, encoded_repr = sae(test_tensor)\n",
    "\n",
    "    print(\"Encoded representation shape:\", encoded_repr.shape)\n",
    "    return encoded_repr"
   ]
  },
  {
   "cell_type": "code",
   "execution_count": null,
   "id": "c0cc23f8",
   "metadata": {},
   "outputs": [
    {
     "name": "stdout",
     "output_type": "stream",
     "text": [
      "Encoded representation shape: torch.Size([1, 256])\n",
      "Encoded representation shape: torch.Size([1, 256])\n",
      "Cosine Similarity between Sentences: 0.8376\n"
     ]
    }
   ],
   "source": [
    "sentence1 = \"marriage\"\n",
    "sentence2 = \"fortune\"\n",
    "\n",
    "encoded1 = get_encoded_representation_l6(sentence1, model, tokenizer)\n",
    "encoded2 = get_encoded_representation_l6(sentence2, model, tokenizer)\n",
    "\n",
    "# Compute cosine similarity\n",
    "cos_sim = torch.nn.functional.cosine_similarity(encoded1.mean(dim=0), encoded2.mean(dim=0), dim=0)\n",
    "print(f\"Cosine Similarity between Sentences: {cos_sim.item():.4f}\")"
   ]
  },
  {
   "cell_type": "code",
   "execution_count": null,
   "id": "9b776ed8",
   "metadata": {},
   "outputs": [
    {
     "name": "stdout",
     "output_type": "stream",
     "text": [
      "Encoded representation shape: torch.Size([1, 256])\n",
      "Encoded representation shape: torch.Size([1, 256])\n",
      "Cosine Similarity between Sentences: 0.9346\n"
     ]
    }
   ],
   "source": [
    "sentence1 = \"marriage\"\n",
    "sentence2 = \"fortune\"\n",
    "\n",
    "encoded1 = get_encoded_representation_l6(sentence1, model, tokenizer, layer=12)\n",
    "encoded2 = get_encoded_representation_l6(sentence2, model, tokenizer, layer=12)\n",
    "\n",
    "# Compute cosine similarity\n",
    "cos_sim = torch.nn.functional.cosine_similarity(encoded1.mean(dim=0), encoded2.mean(dim=0), dim=0)\n",
    "print(f\"Cosine Similarity between Sentences: {cos_sim.item():.4f}\")"
   ]
  },
  {
   "cell_type": "code",
   "execution_count": null,
   "id": "72ff566f",
   "metadata": {},
   "outputs": [],
   "source": [
    "import torch\n",
    "\n",
    "def get_top_activated_words(sentence, model, tokenizer, sae, layer=6, top_k=5):\n",
    "    \"\"\"\n",
    "    Finds the top K activated words in a sentence based on SAE activations.\n",
    "\n",
    "    Args:\n",
    "    - sentence (str): Input sentence.\n",
    "    - model: LLM model.\n",
    "    - tokenizer: Tokenizer used for the model.\n",
    "    - sae: Trained Sparse Autoencoder.\n",
    "    - layer (int): Layer to extract embeddings from.\n",
    "    - top_k (int): Number of top activated words to return.\n",
    "\n",
    "    Returns:\n",
    "    - List of (word, activation_score) tuples sorted by activation.\n",
    "    \"\"\"\n",
    "    \n",
    "    # Get token embeddings from LLM (Extract from Layer 6 by default)\n",
    "    token_embeddings = get_token_embeddings(sentence, model, tokenizer)[layer]\n",
    "    test_tensor = torch.tensor(token_embeddings, dtype=torch.float32)\n",
    "\n",
    "    # Encode using SAE\n",
    "    _, encoded_repr = sae(test_tensor)  # Shape: (num_tokens, hidden_dim)\n",
    "\n",
    "    # Compute activation scores for each token (sum of absolute values per token)\n",
    "    token_activation_scores = encoded_repr.abs().sum(dim=1)  # Shape: (num_tokens,)\n",
    "\n",
    "    # Get original tokens\n",
    "    token_ids = tokenizer.encode(sentence)\n",
    "    tokens = [tokenizer.decode([token_id]) for token_id in token_ids]\n",
    "\n",
    "    # Find top K activated words\n",
    "    top_k_max = min(top_k, len(token_activation_scores))\n",
    "    top_indices = torch.topk(token_activation_scores, top_k_max).indices.tolist()\n",
    "    top_words = [(tokens[i], token_activation_scores[i].item()) for i in top_indices]\n",
    "\n",
    "    return top_words, token_activation_scores"
   ]
  },
  {
   "cell_type": "code",
   "execution_count": null,
   "id": "37b5437c",
   "metadata": {},
   "outputs": [
    {
     "data": {
      "text/plain": [
       "<All keys matched successfully>"
      ]
     },
     "metadata": {},
     "output_type": "display_data"
    }
   ],
   "source": [
    "sae_6 = SparseAutoencoder(input_dim=768, hidden_dim=256).to(\"cpu\")\n",
    "sae_6.load_state_dict(torch.load(\"sae_layer6_1.pth\"))"
   ]
  },
  {
   "cell_type": "code",
   "execution_count": null,
   "id": "fe173548",
   "metadata": {},
   "outputs": [
    {
     "name": "stdout",
     "output_type": "stream",
     "text": [
      "Top Activated Words: [(' am', 0.18167546391487122), ('I', 0.13598717749118805)]\n"
     ]
    }
   ],
   "source": [
    "sentence = \"I am\"\n",
    "top_words, _ = get_top_activated_words(sentence, model, tokenizer, sae=sae_6)\n",
    "\n",
    "print(\"Top Activated Words:\", top_words)"
   ]
  },
  {
   "cell_type": "code",
   "execution_count": null,
   "id": "02df781d",
   "metadata": {},
   "outputs": [
    {
     "data": {
      "text/plain": [
       "<All keys matched successfully>"
      ]
     },
     "metadata": {},
     "output_type": "display_data"
    }
   ],
   "source": [
    "sae_12 = SparseAutoencoder(input_dim=768, hidden_dim=256).to(\"cpu\")\n",
    "sae_12.load_state_dict(torch.load(\"sae_layer12.pth\"))"
   ]
  },
  {
   "cell_type": "code",
   "execution_count": null,
   "id": "3b2ae3d6",
   "metadata": {},
   "outputs": [
    {
     "name": "stdout",
     "output_type": "stream",
     "text": [
      "Top Activated Words: [('orses', 0.7799563407897949), ('H', 0.6787177920341492)]\n"
     ]
    }
   ],
   "source": [
    "sentence = \"Horses\"\n",
    "top_words, _ = get_top_activated_words(sentence, model, tokenizer, sae=sae_12)\n",
    "\n",
    "print(\"Top Activated Words:\", top_words)"
   ]
  },
  {
   "cell_type": "code",
   "execution_count": null,
   "id": "a3b43641",
   "metadata": {},
   "outputs": [],
   "source": [
    "import torch\n",
    "\n",
    "activations = get_top_activated_words(sentence, model, tokenizer, sae=sae_12)\n",
    "\n",
    "# Get indices of top 5 most activated neurons\n",
    "top_5_neurons = torch.topk(activations, 5)\n",
    "\n",
    "print(\"Top 5 Most Activated Features (Neurons):\", top_5_neurons.indices.tolist())\n",
    "print(\"Activation Values:\", top_5_neurons.values.tolist())"
   ]
  }
 ],
 "metadata": {
  "kernelspec": {
   "display_name": "Python 3 (ipykernel)",
   "language": "python",
   "name": "python3"
  },
  "language_info": {
   "codemirror_mode": {
    "name": "ipython",
    "version": 3
   },
   "file_extension": ".py",
   "mimetype": "text/x-python",
   "name": "python",
   "nbconvert_exporter": "python",
   "pygments_lexer": "ipython3",
   "version": "3.9.13"
  }
 },
 "nbformat": 4,
 "nbformat_minor": 5
}
